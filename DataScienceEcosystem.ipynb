{
 "cells": [
  {
   "cell_type": "markdown",
   "id": "a04d9b59-6393-41d5-859d-54c54eb04d55",
   "metadata": {},
   "source": [
    "# Data Science Tools and Ecosystem"
   ]
  },
  {
   "cell_type": "markdown",
   "id": "7e20c7d4-066f-442e-ba60-e10eab4fe547",
   "metadata": {},
   "source": [
    "In this notebook, Data Science Tools and Ecosystem are summarized."
   ]
  },
  {
   "cell_type": "markdown",
   "id": "a6ff6ffe-6cad-464c-8184-cf8b192ec636",
   "metadata": {},
   "source": [
    "Objectives\n",
    " - List popular languages for data science\n",
    " - List common libraries used by data scientists\n",
    " - Make a table of tools used by data scientists\n",
    " - Create examples of arithmetic expressions"
   ]
  },
  {
   "cell_type": "markdown",
   "id": "fcff65e4-fe15-4431-ba0a-61ff51ca5426",
   "metadata": {},
   "source": [
    "Some of the popular languages that Data Scientests use are:\n",
    "1. R\n",
    "2. Python\n",
    "3. SQL\n",
    "4. Java"
   ]
  },
  {
   "cell_type": "markdown",
   "id": "1f71d023-9dad-4b28-a432-74357fbf3089",
   "metadata": {},
   "source": [
    "Some of the commonly used libraries used by Data Scientists include:\n",
    "1. NumPy\n",
    "2. SciPy\n",
    "3. TensorFlow\n",
    "4. Pandas"
   ]
  },
  {
   "cell_type": "markdown",
   "id": "2da0bf3b-edd0-405f-9010-418bac17d4de",
   "metadata": {},
   "source": [
    "|Data Science Tools|\n",
    "|------------------|\n",
    "|Jupyter Notebooks|\n",
    "|R Studios|\n",
    "|Zeppelin Notebooks|"
   ]
  },
  {
   "cell_type": "markdown",
   "id": "8bfa2944-5ad8-43d4-b6eb-59cfa2c81006",
   "metadata": {},
   "source": [
    "### Below are a few examples of evaluating arithmetic expressions in Python."
   ]
  },
  {
   "cell_type": "markdown",
   "id": "00aff61a-c750-46b5-81ac-7a145e0e9be0",
   "metadata": {},
   "source": [
    "This a simple arithmetic expression to mutiply then add integers."
   ]
  },
  {
   "cell_type": "code",
   "execution_count": 1,
   "id": "aa51697e-440e-48e1-bbab-cd26e9a3cc10",
   "metadata": {},
   "outputs": [
    {
     "data": {
      "text/plain": [
       "17"
      ]
     },
     "execution_count": 1,
     "metadata": {},
     "output_type": "execute_result"
    }
   ],
   "source": [
    "(3*4)+5"
   ]
  },
  {
   "cell_type": "markdown",
   "id": "bbdd478d-08dd-40cf-9c10-8f607b233374",
   "metadata": {},
   "source": [
    " This will convert 200 minutes to hours by diving by 60"
   ]
  },
  {
   "cell_type": "code",
   "execution_count": 2,
   "id": "55d02b0a-8189-4e5a-b3ba-d10bc4c23efb",
   "metadata": {},
   "outputs": [
    {
     "data": {
      "text/plain": [
       "3.3333333333333335"
      ]
     },
     "execution_count": 2,
     "metadata": {},
     "output_type": "execute_result"
    }
   ],
   "source": [
    "200/60"
   ]
  },
  {
   "cell_type": "markdown",
   "id": "6c16f2d9-6b3d-4371-8803-a5ec4950f9a7",
   "metadata": {},
   "source": [
    "## Author\n",
    "Nick Pangrazi"
   ]
  },
  {
   "cell_type": "code",
   "execution_count": null,
   "id": "33333af5-c06d-4ead-bcc2-0c716c0f83ce",
   "metadata": {},
   "outputs": [],
   "source": []
  }
 ],
 "metadata": {
  "kernelspec": {
   "display_name": "Python 3 (ipykernel)",
   "language": "python",
   "name": "python3"
  },
  "language_info": {
   "codemirror_mode": {
    "name": "ipython",
    "version": 3
   },
   "file_extension": ".py",
   "mimetype": "text/x-python",
   "name": "python",
   "nbconvert_exporter": "python",
   "pygments_lexer": "ipython3",
   "version": "3.12.5"
  }
 },
 "nbformat": 4,
 "nbformat_minor": 5
}
